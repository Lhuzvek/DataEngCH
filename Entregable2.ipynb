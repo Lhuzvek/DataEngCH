{
 "cells": [
  {
   "cell_type": "code",
   "execution_count": null,
   "id": "44262e17-c7cc-48a9-b506-c7f444d02763",
   "metadata": {},
   "outputs": [],
   "source": [
    "import requests\n",
    "import os\n",
    "import urllib.parse\n",
    "import pandas as pd"
   ]
  },
  {
   "cell_type": "code",
   "execution_count": null,
   "id": "a31daeea-361b-4137-9799-13e67b273e87",
   "metadata": {},
   "outputs": [],
   "source": [
    "# Obtener las variables de entorno\n",
    "POSTGRES_DB = os.environ['POSTGRES_DB']\n",
    "POSTGRES_USER = os.environ['POSTGRES_USER']\n",
    "POSTGRES_PASSWORD = os.environ['POSTGRES_PASSWORD']\n",
    "POSTGRES_HOST_AUTH_METHOD = os.environ['POSTGRES_HOST_AUTH_METHOD']\n",
    "POSTGRES_PORT = os.environ['POSTGRES_PORT']\n",
    "POSTGRES_HOST = os.environ['POSTGRES_HOST']\n",
    "\n",
    "REDSHIFT_USER = os.environ['REDSHIFT_USER']\n",
    "REDSHIFT_PASSWORD = os.environ['REDSHIFT_PASSWORD']\n",
    "REDSHIFT_HOST = os.environ['REDSHIFT_HOST']\n",
    "REDSHIFT_PORT = os.environ['REDSHIFT_PORT']\n",
    "REDSHIFT_DB = os.environ['REDSHIFT_DB']\n",
    "REDSHIFT_SCHEMA = os.environ['REDSHIFT_SCHEMA']\n",
    "\n",
    "JUPYTER_ENABLE_LAB = os.environ['JUPYTER_ENABLE_LAB']\n",
    "JUPYTER_TOKEN = os.environ['JUPYTER_TOKEN']\n",
    "DRIVER_PATH = os.environ['DRIVER_PATH']\n"
   ]
  },
  {
   "cell_type": "code",
   "execution_count": null,
   "id": "73c1f88a-1527-4db9-b5b2-94266dea3af0",
   "metadata": {
    "tags": []
   },
   "outputs": [],
   "source": [
    "# Definir la API\n",
    "\n",
    "def get_api_call(ids, **kwargs):\n",
    "    API_BASE_URL = \"https://apis.datos.gob.ar/series/api/\"\n",
    "    kwargs[\"ids\"] = \",\".join(ids)\n",
    "    return \"{}{}?{}\".format(API_BASE_URL, \"series\", urllib.parse.urlencode(kwargs))"
   ]
  },
  {
   "cell_type": "code",
   "execution_count": null,
   "id": "c6a98455-2a15-4b5d-a833-b2b7c92dee07",
   "metadata": {},
   "outputs": [],
   "source": [
    "# Obtener la URL de la API\n",
    "api_call = get_api_call([\"Automotriz_produccion_s2nqOo\"])\n",
    "result = requests.get(api_call).json()"
   ]
  },
  {
   "cell_type": "code",
   "execution_count": null,
   "id": "edc30b97-ad93-4b14-a8e6-6e3b35f39a6d",
   "metadata": {},
   "outputs": [],
   "source": [
    "# Convertir los datos de la API a un DataFrame de Pandas\n",
    "data_pd = pd.DataFrame(result['data'], columns=[\"date_from\", \"unidades\"])"
   ]
  },
  {
   "cell_type": "code",
   "execution_count": null,
   "id": "275730ba-8af5-4160-9c64-7dc049791125",
   "metadata": {},
   "outputs": [],
   "source": [
    "# Eliminar duplicados durante la carga inicial\n",
    "data_pd = data_pd.drop_duplicates(subset=['date_from'])"
   ]
  },
  {
   "cell_type": "code",
   "execution_count": null,
   "id": "1abafec6-7fbb-4c41-b18a-3bed44456d9d",
   "metadata": {
    "tags": []
   },
   "outputs": [],
   "source": [
    "# Crear la sesión de Spark\n",
    "from pyspark.sql import SparkSession\n",
    "from pyspark.sql.functions import when, lit, col\n",
    "\n",
    "from pyspark.sql import SparkSession\n",
    "from pyspark.sql.functions import when, lit, col\n",
    "\n",
    "\n",
    "os.environ['PYSPARK_SUBMIT_ARGS'] = f'--driver-class-path {DRIVER_PATH} --jars {DRIVER_PATH} pyspark-shell'\n",
    "os.environ['SPARK_CLASSPATH'] = DRIVER_PATH\n",
    "\n",
    "# Create SparkSession \n",
    "spark = SparkSession.builder \\\n",
    "        .master(\"local\") \\\n",
    "        .appName(\"Conexion entre Pyspark y Redshift\") \\\n",
    "        .config(\"spark.jars\", DRIVER_PATH) \\\n",
    "        .config(\"spark.executor.extraClassPath\", DRIVER_PATH) \\\n",
    "        .getOrCreate()"
   ]
  },
  {
   "cell_type": "code",
   "execution_count": 14,
   "id": "4768b604-e110-4d4f-b6ce-ee192e2d9103",
   "metadata": {
    "tags": []
   },
   "outputs": [
    {
     "name": "stdout",
     "output_type": "stream",
     "text": [
      "Requirement already satisfied: psycopg2-binary in /opt/conda/lib/python3.10/site-packages (2.9.6)\n",
      "Note: you may need to restart the kernel to use updated packages.\n"
     ]
    }
   ],
   "source": [
    "%pip install psycopg2-binary"
   ]
  },
  {
   "cell_type": "code",
   "execution_count": null,
   "id": "6f9dcdb0-8e30-43f7-ad00-9f896458bd0a",
   "metadata": {},
   "outputs": [],
   "source": [
    "# Conectar a Redshift usando psycopg2\n",
    "import psycopg2\n",
    "conn = psycopg2.connect(\n",
    "    host=REDSHIFT_HOST,\n",
    "    port=REDSHIFT_PORT,\n",
    "    dbname=REDSHIFT_DB,\n",
    "    user=REDSHIFT_USER,\n",
    "    password=REDSHIFT_PASSWORD\n",
    ")"
   ]
  },
  {
   "cell_type": "code",
   "execution_count": null,
   "id": "106f67f5-98b4-423d-b535-b28f6d62c0cd",
   "metadata": {},
   "outputs": [],
   "source": [
    "# Crear la tabla en Redshift si no existe\n",
    "cursor = conn.cursor()\n",
    "cursor.execute(f\"\"\"\n",
    "create table if not exists {os.environ['REDSHIFT_SCHEMA']}.cantidad_de_vehiculos_producida(\n",
    "    date_from VARCHAR(10) distkey,\n",
    "    unidades decimal(10,2),\n",
    "    frequency varchar(12)\n",
    ") sortkey(date_from);\n",
    "\"\"\")\n",
    "conn.commit()\n",
    "cursor.close()"
   ]
  },
  {
   "cell_type": "code",
   "execution_count": null,
   "id": "a3215609-e077-471a-b5e6-3e8a54e926bf",
   "metadata": {
    "tags": []
   },
   "outputs": [],
   "source": [
    "from pyspark.sql import SparkSession\n",
    "\n",
    "spark = SparkSession.builder \\\n",
    "    .appName(\"Conexion entre Pyspark y Redshift\") \\\n",
    "    .config(\"spark.jars\", DRIVER_PATH) \\\n",
    "    .config(\"spark.executor.extraClassPath\", DRIVER_PATH) \\\n",
    "    .getOrCreate()\n",
    "\n",
    "# Lee la lista de tablas desde Redshift\n",
    "table_list = spark.read \\\n",
    "    .format(\"jdbc\") \\\n",
    "    .option(\"url\", f\"jdbc:redshift://{REDSHIFT_HOST}:{REDSHIFT_PORT}/{REDSHIFT_DB}\") \\\n",
    "    .option(\"dbtable\", f\"{REDSHIFT_SCHEMA}.cantidad_de_vehiculos_producida\") \\\n",
    "    .option(\"user\", REDSHIFT_USER) \\\n",
    "    .option(\"password\", REDSHIFT_PASSWORD) \\\n",
    "    .option(\"driver\", DRIVER_PATH) \\\n",
    "    .load()\n",
    "\n",
    "# Filtra las tablas por el esquema específico\n",
    "filtered_tables = table_list.filter(f\"table_schema = '{REDSHIFT_SCHEMA}'\")\n",
    "\n",
    "# Muestra la lista de tablas\n",
    "filtered_tables.show()"
   ]
  },
  {
   "cell_type": "code",
   "execution_count": null,
   "id": "cb669958-60a1-4482-abfc-8a7ea0ee0b08",
   "metadata": {},
   "outputs": [],
   "source": [
    "# Verificar la existencia de registros antes de la inserción\n",
    "date_from_values = [row[0] for row in data_pd.values]\n",
    "date_values_string = \",\".join([\"'{}'\".format(value) for value in date_from_values])\n",
    "\n",
    "sql_query = \"SELECT * FROM \" + REDSHIFT_SCHEMA + \".cantidad_de_vehiculos_producida\" + \" WHERE date_from IN (\" + date_values_string + \")\"\n",
    "existing_data = spark.sql(sql_query)\n",
    "\n",
    "\n",
    "existing_data = spark.sql(sql_query)\n",
    "existing_data = existing_data.filter(col(\"date_from\").isin(date_from_values))\n",
    "existing_data = existing_data.select(\"*\")"
   ]
  },
  {
   "cell_type": "code",
   "execution_count": null,
   "id": "1e1d86c2-4870-452a-a43a-cd39cc479224",
   "metadata": {},
   "outputs": [],
   "source": [
    "# Filtrar los registros duplicados\n",
    "data_pd = data_pd[~data_pd['date_from'].isin(existing_data.toPandas()['date_from'])]"
   ]
  },
  {
   "cell_type": "code",
   "execution_count": null,
   "id": "f3578a74-c758-4a99-8a27-cfc9f76a9e75",
   "metadata": {},
   "outputs": [],
   "source": [
    "# Convertir el DataFrame de Pandas a un DataFrame de Spark\n",
    "df = spark.createDataFrame(data_pd)\n"
   ]
  },
  {
   "cell_type": "code",
   "execution_count": null,
   "id": "fccb855e-2d90-4883-94c0-49c8a6f1a0ee",
   "metadata": {},
   "outputs": [],
   "source": [
    "# Agregar una columna \"frequency\" al DataFrame de Spark\n",
    "df_to_write = df.withColumn('frequency', lit('Mensual'))"
   ]
  },
  {
   "cell_type": "code",
   "execution_count": null,
   "id": "1595a715-61d2-4896-bb37-465dd821ce67",
   "metadata": {
    "tags": []
   },
   "outputs": [],
   "source": [
    "# Escribir los datos en Redshift\n",
    "df_to_write.write \\\n",
    "    .format(\"jdbc\") \\\n",
    "    .option(\"url\", f\"jdbc:postgresql://{REDSHIFT_HOST}:{REDSHIFT_PORT}/{REDSHIFT_DB}\") \\\n",
    "    .option(\"dbtable\", f\"{REDSHIFT_SCHEMA}.cantidad_de_vehiculos_producida\") \\\n",
    "    .option(\"user\", REDSHIFT_USER) \\\n",
    "    .option(\"password\", REDSHIFT_PASSWORD) \\\n",
    "    .option(\"driver\", \"org.postgresql.Driver\") \\\n",
    "    .mode(\"overwrite\") \\\n",
    "    .save()"
   ]
  }
 ],
 "metadata": {
  "kernelspec": {
   "display_name": "Python 3 (ipykernel)",
   "language": "python",
   "name": "python3"
  },
  "language_info": {
   "codemirror_mode": {
    "name": "ipython",
    "version": 3
   },
   "file_extension": ".py",
   "mimetype": "text/x-python",
   "name": "python",
   "nbconvert_exporter": "python",
   "pygments_lexer": "ipython3",
   "version": "3.10.10"
  }
 },
 "nbformat": 4,
 "nbformat_minor": 5
}
